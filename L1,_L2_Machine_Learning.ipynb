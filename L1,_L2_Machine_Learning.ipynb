{
  "nbformat": 4,
  "nbformat_minor": 0,
  "metadata": {
    "colab": {
      "provenance": [],
      "authorship_tag": "ABX9TyNc6OFRfHadY5T6UmOLijLU",
      "include_colab_link": true
    },
    "kernelspec": {
      "name": "python3",
      "display_name": "Python 3"
    },
    "language_info": {
      "name": "python"
    }
  },
  "cells": [
    {
      "cell_type": "markdown",
      "metadata": {
        "id": "view-in-github",
        "colab_type": "text"
      },
      "source": [
        "<a href=\"https://colab.research.google.com/github/reksh21/Machine-Learning/blob/main/L1%2C_L2_Machine_Learning.ipynb\" target=\"_parent\"><img src=\"https://colab.research.google.com/assets/colab-badge.svg\" alt=\"Open In Colab\"/></a>"
      ]
    },
    {
      "cell_type": "markdown",
      "source": [
        "# L1. Machine Learning"
      ],
      "metadata": {
        "id": "DOzym-xISu74"
      }
    },
    {
      "cell_type": "markdown",
      "source": [
        "**Applied Machine Learning:**\n",
        "\n",
        "*   Type of AI, enables software application to grow increasingly effective at predicting outcomes without explicitly programming.\n",
        "*   It uses techniques and theories from mathematics, statistics, computer science, domain knowledge, and information science to build the model.\n",
        "\n",
        "**Benefits of Machine Learning:**\n",
        "\n",
        "*   Used in Various Domains\n",
        "*   Handles Big Data\n",
        "\n",
        "*   Enables Automation\n",
        "*   Handles Different type of Data\n",
        "\n",
        "\n",
        "\n",
        "\n",
        "\n",
        "\n"
      ],
      "metadata": {
        "id": "XGk-OB3QSq-n"
      }
    },
    {
      "cell_type": "markdown",
      "source": [
        "\n",
        "# L2. Introduction to Machine Learning"
      ],
      "metadata": {
        "id": "ct4KBrWozawb"
      }
    },
    {
      "cell_type": "markdown",
      "source": [
        "**Relationship Between Artificial Intelligence, Machine Learning, and Data Science:**\n",
        "\n",
        "1.   Artificial Intelligence: Mimic or Replicates Human Intelligence.\n",
        "2.   Machine Learning: Provides system the ability to Automatically learn and Improve the Experiences without being explicitly programmed.\n",
        "3.   Data Science: Encompasses Data Analytics, Data Mining, Machine Learning, Artificial Intelligence and so on.\n",
        "**Relationship Between Artificial Intelligence and Machine Learning:**\n",
        "Machine Learning is a subset of Artificial Intelligence that is based on\n",
        "the idea that machines can be given access to data along with the ability to learn from it.\n",
        "\n",
        "**Relationship Between Machine Learning and Data Science:**  \n",
        "\n",
        "*   Data Science helps evaluate data for Machine Learning Algorithms.\n",
        "*   Data Science includes techniques like Statistical Modeling, Visualization and Pattern Recognition whereas Machine Learning focuses on developing algorithms from the data provided.\n",
        "\n",
        "\n"
      ],
      "metadata": {
        "id": "Qy7WHQcG1ZLT"
      }
    },
    {
      "cell_type": "markdown",
      "source": [
        "**Machine Learning:** The capability of Artificial Intelligence systems to learn by extracting patterns from data.\n",
        "\n",
        "**Features of Machine Learning:**\n",
        "*   Uses data to detect patterns in datasets and adjust program actions accordingly.\n",
        "*   Focuses on the development of computer programs that can teach themselves to grow and change when exposed to new data.\n",
        "*   Enables computers to find hidden insights using iterative algorithms without being explicitly programmed.\n",
        "*   Automates analytical model building."
      ],
      "metadata": {
        "id": "hgOOj5AtEftP"
      }
    },
    {
      "cell_type": "markdown",
      "source": [
        "**Machine Learning Approach:**\n",
        "1.   **Traditional Programming:** Data and program is run on the computer to produce the output. Relies on hard-coded rules.\n",
        "2.   **Machine Learning:** Data and output is run on the computer to create a program. Relies on learning patterns based on sample data.\n"
      ],
      "metadata": {
        "id": "L-BNYCRkFYUJ"
      }
    },
    {
      "cell_type": "markdown",
      "source": [
        "**Machine Learning Techniques:**\n",
        "1.   **Classification:** The computer program learns from the given data and uses it to classify new observations.\n",
        "2.   **Categorization:** Organizing data into categories for its most effective and efficient use.\n",
        "3.   **Clustering:** grouping objects in such a way that those in the same group are more similar to each other than those in other groups.\n",
        "4.   **Trend analysis:** Aimed at projecting both current and future movement of events by using time series data analysis.\n",
        "5.   **Anomaly detection:** Identify cases that are unusual within homogeneous data.\n",
        "6.   **Visualization:** Present data in a graphical format. It enables\n",
        "decision-makers to see analytics presented visually.\n",
        "7.   **Decision making:** Provides you with the ability to influence managerial decisions with data as the evidence."
      ],
      "metadata": {
        "id": "J8ym99v6ltrd"
      }
    },
    {
      "cell_type": "markdown",
      "source": [
        "**Applications of Machine Learning:**\n",
        "*   **Image Processing:** Image tagging and recognition, Optical Character Recognition (OCR), Self-driving cars\n",
        "*   **Robotics:** Human simulation, Industrial robotics, Humanoid Robot\n",
        "*   **Data Mining:** Anomaly detection, Grouping and Predictions, Association rules\n",
        "*   **Video Games:** Some games implement reinforcement learning\n",
        "*   **Text Analysis:** Sentiment Analysis, Spam Filtering, Information\n",
        "Extraction\n",
        "*   **Healthcare**"
      ],
      "metadata": {
        "id": "q1qb6jcUoH9y"
      }
    }
  ]
}